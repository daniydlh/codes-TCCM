{
 "cells": [
  {
   "cell_type": "code",
   "execution_count": 1,
   "id": "570507e8",
   "metadata": {},
   "outputs": [],
   "source": [
    "import numpy as np\n",
    "\n",
    "#moleculas mass dictionary for atoms, add more atoms if neccesary\n",
    "\n",
    "MM = {\n",
    "    'H': 1.00784,\n",
    "    'C': 12.0107,\n",
    "    'O': 15.999,\n",
    "    'N': 14.0067}"
   ]
  },
  {
   "cell_type": "code",
   "execution_count": 2,
   "id": "8af919b3",
   "metadata": {},
   "outputs": [],
   "source": [
    "#read xyz file and stores data in 4 different arrays for atom, x, y and z coordinates for eachs atom\n",
    "\n",
    "def read_xyz(xyz):\n",
    "    \n",
    "    with open(xyz,'r') as file:\n",
    "        \n",
    "        lines = file.readlines()[2:] #starts reading after number of atoms and comment rows\n",
    "        atoms=[]\n",
    "        x=[]\n",
    "        y=[]\n",
    "        z=[]\n",
    "        \n",
    "        for line in lines: #for every line in the file stores x,y and z values\n",
    "            line.strip() #separetes columns omitting blanck spaces (sets it nicely to be stored)\n",
    "            atoms.append(line.split()[0]) #makes columns easy to work with\n",
    "            x.append(line.split()[1]),\n",
    "            y.append(line.split()[2])\n",
    "            z.append(line.split()[3])\n",
    "            \n",
    "        x = np.array(x, dtype=float) #converts to numpy arrays\n",
    "        y = np.array(y, dtype=float)\n",
    "        z = np.array(z, dtype=float)\n",
    "        \n",
    "    return atoms,x,y,z"
   ]
  },
  {
   "cell_type": "code",
   "execution_count": 3,
   "id": "9c2d84ee",
   "metadata": {},
   "outputs": [],
   "source": [
    "#computes mass center for x,y and z coordinates, then traslates\n",
    "\n",
    "def cm_tras(xyz):\n",
    "\n",
    "    atoms,x,y,z = read_xyz(xyz)\n",
    "    mass_sum=0\n",
    "    mx=0\n",
    "    my=0\n",
    "    mz=0\n",
    "\n",
    "    for i in range(len(atoms)): #runs through number of lines (atoms) to index x,y and z values for each atom\n",
    "        mx += MM[atoms[i]] * x[i] #numerator for x component of CM\n",
    "        my += MM[atoms[i]] * y[i]\n",
    "        mz += MM[atoms[i]] * z[i]\n",
    "        mass_sum += MM[atoms[i]] #calculates denominator\n",
    "    \n",
    "    cm = np.array([mx/mass_sum , my/mass_sum , mz/mass_sum])\n",
    "    coords = np.column_stack((x,y,z)) #stacks colums to obtain 2D array with the coordinates of each atom at each subarray\n",
    "    return coords - cm #substracts mass center to obtain coordinates centered in CM\n"
   ]
  },
  {
   "cell_type": "code",
   "execution_count": 4,
   "id": "43ac7375",
   "metadata": {},
   "outputs": [],
   "source": [
    "# defines an empty 3x3 matrix for the inertia tensor and calculates every term of it\n",
    "\n",
    "def inertia_tensor(xyz):\n",
    "    \n",
    "    atoms,x,y,z = read_xyz(xyz)\n",
    "    tensor = np.zeros((3, 3))\n",
    "    \n",
    "    for i in range(len(atoms)): #analog to center fo mass loop\n",
    "        \n",
    "        m_i = MM[atoms[i]] #with the name of the atom store in atoms array, extracts its molar mass from dictionary\n",
    "        \n",
    "        tensor[0, 0] += m_i * (y[i]**2 + z[i]**2)\n",
    "        tensor[1, 1] += m_i * (x[i]**2 + z[i]**2)\n",
    "        tensor[2, 2] += m_i * (x[i]**2 + y[i]**2)\n",
    "        tensor[0, 1] -= m_i * x[i] * y[i]\n",
    "        tensor[0, 2] -= m_i * x[i] * z[i]\n",
    "        tensor[1, 2] -= m_i * y[i] * z[i]\n",
    "    \n",
    "    tensor[1, 0] = tensor[0, 1]\n",
    "    tensor[2, 0] = tensor[0, 2]\n",
    "    tensor[2, 1] = tensor[1, 2]\n",
    "    \n",
    "    return tensor"
   ]
  },
  {
   "cell_type": "code",
   "execution_count": 5,
   "id": "ea7cde61",
   "metadata": {},
   "outputs": [],
   "source": [
    "#obtains tensor of inertia and dianalizes it obtaines axes and momenta of inertia\n",
    "\n",
    "def momenta_axes(xyz):\n",
    "    \n",
    "    tensor = inertia_tensor(xyz)\n",
    "    evals, evecs = np.linalg.eigh(tensor) #diagonalizes matrix obtaining eigenvalues and eigenvectors, eigh prepares values in acending order\n",
    "    sorted_evals = evals[::-1] #preapres them in descendet, setting the principal axis at first place\n",
    "    idx = np.argsort(sorted_evals) \n",
    "    sorted_evecs = evecs[:, idx] #sorts eigenvectors according to the principal axes of inertia\n",
    "\n",
    "    rot_mat = sorted_evecs.T #raotion matrix made of eigenvectors gets traspose\n",
    "    \n",
    "    return evals, rot_mat"
   ]
  },
  {
   "cell_type": "code",
   "execution_count": 6,
   "id": "fdc0ea25",
   "metadata": {
    "scrolled": true
   },
   "outputs": [
    {
     "name": "stdout",
     "output_type": "stream",
     "text": [
      "12\n",
      "benzene\n",
      "C 1.402720 0.000000 -0.000000\n",
      "H 2.490290 0.000000 -0.000000\n",
      "C 0.701360 0.000000 -1.214790\n",
      "H 1.245150 0.000000 -2.156660\n",
      "C -0.701360 0.000000 -1.214790\n",
      "H -1.245150 0.000000 -2.156660\n",
      "C -1.402720 0.000000 -0.000000\n",
      "H -2.490290 0.000000 -0.000000\n",
      "C -0.701360 0.000000 1.214790\n",
      "H -1.245150 0.000000 2.156660\n",
      "C 0.701360 0.000000 1.214790\n",
      "H 1.245150 0.000000 2.156660\n"
     ]
    }
   ],
   "source": [
    "#rorates matrix according to eigenvector matrix and displays it in xyz format\n",
    "\n",
    "def rotate_inertia(xyz,molecule):\n",
    "\n",
    "    atoms,x,y,z = read_xyz(xyz)\n",
    "    cm_coords = cm_tras(xyz)\n",
    "    tensor = inertia_tensor(xyz)\n",
    "    evals,rot_mat = momenta_axes(xyz)\n",
    "    rot_coords = np.dot(cm_coords, rot_mat) #dot product of rotation matrix and mass centered coordinates\n",
    "\n",
    "    print(len(atoms))\n",
    "    print(molecule)\n",
    "    for atom, coord in zip(atoms, rot_coords): #runs over elements in atom array and coordinates t print then in xyz format\n",
    "        print(f\"{atom} {coord[0]:.6f} {coord[1]:.6f} {coord[2]:.6f}\")\n",
    "    \n",
    "    with open('benzene-rot.xyz', 'w') as f:\n",
    "        \n",
    "        #Write some text to the file\n",
    "        f.write(str(len(atoms)))\n",
    "        f.write(\"\\n\")\n",
    "        f.write(str(molecule))\n",
    "        f.write(\"\\n\")\n",
    "        for atom, coord in zip(atoms, rot_coords):\n",
    "            f.write(f\"{atom} {coord[0]:.6f} {coord[1]:.6f} {coord[2]:.6f}\\n\")\n",
    "\n",
    "\n",
    "rotate_inertia('benzene.xyz','benzene')"
   ]
  },
  {
   "cell_type": "code",
   "execution_count": 10,
   "id": "954a1b78",
   "metadata": {
    "scrolled": true
   },
   "outputs": [
    {
     "data": {
      "text/plain": [
       "array([[1.77129103, 0.        , 0.        ],\n",
       "       [0.        , 1.15035805, 0.        ],\n",
       "       [0.        , 0.        , 0.62093298]])"
      ]
     },
     "execution_count": 10,
     "metadata": {},
     "output_type": "execute_result"
    }
   ],
   "source": [
    "inertia_tensor('h2o-rot.xyz')"
   ]
  },
  {
   "cell_type": "code",
   "execution_count": null,
   "id": "6a3406cb",
   "metadata": {},
   "outputs": [],
   "source": []
  }
 ],
 "metadata": {
  "kernelspec": {
   "display_name": "Python 3 (ipykernel)",
   "language": "python",
   "name": "python3"
  },
  "language_info": {
   "codemirror_mode": {
    "name": "ipython",
    "version": 3
   },
   "file_extension": ".py",
   "mimetype": "text/x-python",
   "name": "python",
   "nbconvert_exporter": "python",
   "pygments_lexer": "ipython3",
   "version": "3.9.12"
  }
 },
 "nbformat": 4,
 "nbformat_minor": 5
}
