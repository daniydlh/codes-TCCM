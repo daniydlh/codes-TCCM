{
  "cells": [
    {
      "cell_type": "code",
      "execution_count": null,
      "id": "3c99f93e",
      "metadata": {
        "id": "3c99f93e",
        "outputId": "de43dd54-c018-4715-b29f-a9656fe5feca"
      },
      "outputs": [
        {
          "data": {
            "text/plain": [
              "array([[-1.570796,  0.      ],\n",
              "       [-1.047198,  0.5     ],\n",
              "       [ 0.      ,  1.      ],\n",
              "       [ 1.047198,  0.5     ],\n",
              "       [ 1.570796,  0.      ]])"
            ]
          },
          "execution_count": 3,
          "metadata": {},
          "output_type": "execute_result"
        }
      ],
      "source": [
        "#PREPARES INDIVIDUAL CURVE DATA POINTS SKIPPING FIRST TWO LINES\n",
        "\n",
        "import numpy as np\n",
        "def data_prep(filename):\n",
        "\n",
        "    data = np.genfromtxt(filename,delimiter=None,dtype=float,skip_header=2)\n",
        "    return data\n",
        "data=data_prep('curve-pi.txt')\n",
        "data"
      ]
    },
    {
      "cell_type": "code",
      "execution_count": null,
      "id": "5be28938",
      "metadata": {
        "id": "5be28938"
      },
      "outputs": [],
      "source": [
        "#DEFINES EVERY NEEDED SUMATORY FOR THE LINEAR QUATIONS SYSTEM\n",
        "\n",
        "def sumatories(curve_data,degree):\n",
        "\n",
        "    curve=data_prep(curve_data)\n",
        "    x=curve[:,0]\n",
        "    y=curve[:,1]\n",
        "    n = len(curve[:,0])\n",
        "\n",
        "    sums_x=[]\n",
        "    sums_xy=[]\n",
        "\n",
        "    for m in range((degree)*2+1): #runs over the possible exponents in each term of the equations (ascendant) (from 0 to 2m)\n",
        "\n",
        "        sum_x=0\n",
        "        sum_xy=0\n",
        "\n",
        "        for i in range(len(x)): #run over datapoints performing the sum\n",
        "\n",
        "            sum_x += curve[i,0]**(m)\n",
        "\n",
        "            if m <= degree:\n",
        "                sum_xy += curve[i,0]**(m) * curve[i,1]  # xy terms only run till m, unlike x terms\n",
        "\n",
        "        sums_x.append(sum_x)\n",
        "\n",
        "        if m <= degree:\n",
        "            sums_xy.append(sum_xy)\n",
        "\n",
        "    return sums_x, sums_xy #sums get accumulated in arrays to be indexed in the following function\n",
        ""
      ]
    },
    {
      "cell_type": "code",
      "execution_count": null,
      "id": "d80f1180",
      "metadata": {
        "id": "d80f1180"
      },
      "outputs": [],
      "source": [
        "def linear_system_mat(curve_data,degree):\n",
        "\n",
        "    M = np.zeros((degree+1,degree+2)) # 0-filled matrix of m+1,m+2 dimensions taking into account the equality (+2)\n",
        "\n",
        "    sx,sxy = sumatories(curve_data,degree)\n",
        "\n",
        "    h=0\n",
        "\n",
        "    for row in range(degree+1): #runs over rows\n",
        "\n",
        "            for col in range(degree+1): #runs over columns\n",
        "\n",
        "                M[row,col] = sx[col+h]\n",
        "\n",
        "            h += 1 #when a row is filled, the term to fill now is the first term plus the number of rows already filled\n",
        "\n",
        "    for row in range(degree+1): #filling equality column\n",
        "\n",
        "        M[row,degree+1] = sxy[row]\n",
        "\n",
        "    return M\n",
        "\n"
      ]
    },
    {
      "cell_type": "code",
      "execution_count": null,
      "id": "56071d14",
      "metadata": {
        "id": "56071d14"
      },
      "outputs": [],
      "source": [
        "def gaussjordan(curve_data,degree):\n",
        "\n",
        "    M=linear_system_mat(curve_data,degree)\n",
        "    rows, cols = M.shape\n",
        "    coeff=[]\n",
        "\n",
        "    for i in range(rows):\n",
        "\n",
        "        pivot = np.argmax(np.abs(M[i:, i])) + i  # choosing pivot value\n",
        "        M[[i, pivot]] = M[[pivot, i]]  # swapping columns to get the pivot in position 0,0\n",
        "        div = M[i,i]\n",
        "        M[i] /= div  # divides row by the diagonal term (pivot)\n",
        "        div = div.astype(float)\n",
        "\n",
        "        for j in range(rows):\n",
        "            if j!=i:\n",
        "                M[j,:] -= M[j,i] * M[i,:] #perfomrs operation over rows to make its values zero except for the diagonal\n",
        "\n",
        "    for i in range(rows):\n",
        "\n",
        "        result = M[i, cols - 1]/M[i,i] #solves equation\n",
        "        coeff.append(result)\n",
        "\n",
        "    return coeff\n"
      ]
    },
    {
      "cell_type": "code",
      "execution_count": null,
      "id": "21910040",
      "metadata": {
        "scrolled": false,
        "id": "21910040"
      },
      "outputs": [],
      "source": [
        "def func(x,a):\n",
        "    return a[0] + a[1]*x + a[2]*x**2 + a[3]*x**3 #+ a[4]*x**4# + a[5]*x**5\n",
        "\n",
        "def fitting(curve_data,degree):\n",
        "\n",
        "    import pandas as pd\n",
        "    from IPython.display import display\n",
        "    from IPython.display import Math\n",
        "    import matplotlib.pyplot as plt\n",
        "\n",
        "    #displays datapoints dataframe for clarity\n",
        "\n",
        "    curve = data_prep(curve_data)\n",
        "    x=curve[:,0]\n",
        "    y=curve[:,1]\n",
        "    curve2 = {'X':curve[:,0],'Y': curve[:,1]}\n",
        "    curve_df = pd.DataFrame(curve2)\n",
        "    display(curve_df)\n",
        "\n",
        "    a = gaussjordan(curve_data,degree) #coefficients\n",
        "\n",
        "    #displays general form of the polynomial\n",
        "\n",
        "    function = r\"y = a_{m} x^m + a_{m-1}x^{m-1} + ... + a_{2}x^{2} + a_{1}x^{1} +a_0\"\n",
        "    display(Math(function))\n",
        "\n",
        "    #presents coefficients\n",
        "\n",
        "    for i in range(degree+1):\n",
        "\n",
        "        print(f\"a{i} = {a[i]}\")\n",
        "\n",
        "\n",
        "    #function terms has to be defined according to polynomial degree\n",
        "\n",
        "    #def func(x):\n",
        "     #   return a[0] + a[1]*x + a[2]*x**2 #+ a[3]*x**3 #+ a[4]*x**4 + a[5]*x**5\n",
        "    func(x,a)\n",
        "    # plots datapoint and its fitting with the obtained parameters\n",
        "    plt.scatter(curve_df['X'], curve_df['Y'],label='Data points')\n",
        "\n",
        "    #generates x values for the fitting with polynomial in a generalizable range\n",
        "    x_val_fit = np.linspace(curve[0,0], curve[-1,0], 1000)\n",
        "    plt.xlim(curve[0,0], curve[-1,0])\n",
        "    plt.xlabel(\"X\")\n",
        "    plt.ylabel(\"Y\")\n",
        "\n",
        "    plt.plot(x_val_fit,func(x_val_fit,a),'-r', label='Fitting')\n",
        "    plt.legend()\n",
        "    plt.show()\n",
        "\n",
        "    print(func(np.pi/4,a))\n"
      ]
    },
    {
      "cell_type": "code",
      "execution_count": null,
      "id": "13a91445",
      "metadata": {
        "id": "13a91445"
      },
      "outputs": [],
      "source": [
        "def compute_r_squared(curve_data,degree): #computes R2 value\n",
        "\n",
        "    a = gaussjordan(curve_data,degree)\n",
        "    curve=data_prep(curve_data)\n",
        "    x=curve[:,0]\n",
        "    y=curve[:,1]\n",
        "\n",
        "    y_mean = np.mean(y)\n",
        "    y_pred = np.polyval(a[::-1], x)\n",
        "    ss_res = np.sum((y - y_pred) ** 2)\n",
        "    ss_tot = np.sum((y - y_mean) ** 2)\n",
        "    r_squared = 1 - (ss_res / ss_tot)\n",
        "    #print(f\"R2 = {r_squared}\")\n",
        "    return r_squared"
      ]
    },
    {
      "cell_type": "code",
      "execution_count": null,
      "id": "2a3ab083",
      "metadata": {
        "id": "2a3ab083",
        "outputId": "f147fd53-e5d9-406e-a0e1-f5402add0b89"
      },
      "outputs": [
        {
          "ename": "OSError",
          "evalue": "curve1.txt not found.",
          "output_type": "error",
          "traceback": [
            "\u001b[1;31m---------------------------------------------------------------------------\u001b[0m",
            "\u001b[1;31mOSError\u001b[0m                                   Traceback (most recent call last)",
            "Input \u001b[1;32mIn [75]\u001b[0m, in \u001b[0;36m<cell line: 1>\u001b[1;34m()\u001b[0m\n\u001b[1;32m----> 1\u001b[0m \u001b[43mfitting\u001b[49m\u001b[43m(\u001b[49m\u001b[38;5;124;43m'\u001b[39;49m\u001b[38;5;124;43mcurve1.txt\u001b[39;49m\u001b[38;5;124;43m'\u001b[39;49m\u001b[43m,\u001b[49m\u001b[38;5;241;43m3\u001b[39;49m\u001b[43m)\u001b[49m\n\u001b[0;32m      2\u001b[0m compute_r_squared(\u001b[38;5;124m'\u001b[39m\u001b[38;5;124mcurve1.txt\u001b[39m\u001b[38;5;124m'\u001b[39m,\u001b[38;5;241m3\u001b[39m)\n",
            "Input \u001b[1;32mIn [72]\u001b[0m, in \u001b[0;36mfitting\u001b[1;34m(curve_data, degree)\u001b[0m\n\u001b[0;32m      9\u001b[0m \u001b[38;5;28;01mimport\u001b[39;00m \u001b[38;5;21;01mmatplotlib\u001b[39;00m\u001b[38;5;21;01m.\u001b[39;00m\u001b[38;5;21;01mpyplot\u001b[39;00m \u001b[38;5;28;01mas\u001b[39;00m \u001b[38;5;21;01mplt\u001b[39;00m\n\u001b[0;32m     11\u001b[0m \u001b[38;5;66;03m#displays datapoints dataframe for clarity\u001b[39;00m\n\u001b[1;32m---> 13\u001b[0m curve \u001b[38;5;241m=\u001b[39m \u001b[43mdata_prep\u001b[49m\u001b[43m(\u001b[49m\u001b[43mcurve_data\u001b[49m\u001b[43m)\u001b[49m\n\u001b[0;32m     14\u001b[0m x\u001b[38;5;241m=\u001b[39mcurve[:,\u001b[38;5;241m0\u001b[39m]\n\u001b[0;32m     15\u001b[0m y\u001b[38;5;241m=\u001b[39mcurve[:,\u001b[38;5;241m1\u001b[39m]\n",
            "Input \u001b[1;32mIn [3]\u001b[0m, in \u001b[0;36mdata_prep\u001b[1;34m(filename)\u001b[0m\n\u001b[0;32m      4\u001b[0m \u001b[38;5;28;01mdef\u001b[39;00m \u001b[38;5;21mdata_prep\u001b[39m(filename):\n\u001b[1;32m----> 6\u001b[0m     data \u001b[38;5;241m=\u001b[39m \u001b[43mnp\u001b[49m\u001b[38;5;241;43m.\u001b[39;49m\u001b[43mgenfromtxt\u001b[49m\u001b[43m(\u001b[49m\u001b[43mfilename\u001b[49m\u001b[43m,\u001b[49m\u001b[43mdelimiter\u001b[49m\u001b[38;5;241;43m=\u001b[39;49m\u001b[38;5;28;43;01mNone\u001b[39;49;00m\u001b[43m,\u001b[49m\u001b[43mdtype\u001b[49m\u001b[38;5;241;43m=\u001b[39;49m\u001b[38;5;28;43mfloat\u001b[39;49m\u001b[43m,\u001b[49m\u001b[43mskip_header\u001b[49m\u001b[38;5;241;43m=\u001b[39;49m\u001b[38;5;241;43m2\u001b[39;49m\u001b[43m)\u001b[49m \n\u001b[0;32m      7\u001b[0m     \u001b[38;5;28;01mreturn\u001b[39;00m data\n",
            "File \u001b[1;32m~\\anaconda3\\lib\\site-packages\\numpy\\lib\\npyio.py:1793\u001b[0m, in \u001b[0;36mgenfromtxt\u001b[1;34m(fname, dtype, comments, delimiter, skip_header, skip_footer, converters, missing_values, filling_values, usecols, names, excludelist, deletechars, replace_space, autostrip, case_sensitive, defaultfmt, unpack, usemask, loose, invalid_raise, max_rows, encoding, like)\u001b[0m\n\u001b[0;32m   1791\u001b[0m     fname \u001b[38;5;241m=\u001b[39m os_fspath(fname)\n\u001b[0;32m   1792\u001b[0m \u001b[38;5;28;01mif\u001b[39;00m \u001b[38;5;28misinstance\u001b[39m(fname, \u001b[38;5;28mstr\u001b[39m):\n\u001b[1;32m-> 1793\u001b[0m     fid \u001b[38;5;241m=\u001b[39m \u001b[43mnp\u001b[49m\u001b[38;5;241;43m.\u001b[39;49m\u001b[43mlib\u001b[49m\u001b[38;5;241;43m.\u001b[39;49m\u001b[43m_datasource\u001b[49m\u001b[38;5;241;43m.\u001b[39;49m\u001b[43mopen\u001b[49m\u001b[43m(\u001b[49m\u001b[43mfname\u001b[49m\u001b[43m,\u001b[49m\u001b[43m \u001b[49m\u001b[38;5;124;43m'\u001b[39;49m\u001b[38;5;124;43mrt\u001b[39;49m\u001b[38;5;124;43m'\u001b[39;49m\u001b[43m,\u001b[49m\u001b[43m \u001b[49m\u001b[43mencoding\u001b[49m\u001b[38;5;241;43m=\u001b[39;49m\u001b[43mencoding\u001b[49m\u001b[43m)\u001b[49m\n\u001b[0;32m   1794\u001b[0m     fid_ctx \u001b[38;5;241m=\u001b[39m contextlib\u001b[38;5;241m.\u001b[39mclosing(fid)\n\u001b[0;32m   1795\u001b[0m \u001b[38;5;28;01melse\u001b[39;00m:\n",
            "File \u001b[1;32m~\\anaconda3\\lib\\site-packages\\numpy\\lib\\_datasource.py:193\u001b[0m, in \u001b[0;36mopen\u001b[1;34m(path, mode, destpath, encoding, newline)\u001b[0m\n\u001b[0;32m    156\u001b[0m \u001b[38;5;124;03m\"\"\"\u001b[39;00m\n\u001b[0;32m    157\u001b[0m \u001b[38;5;124;03mOpen `path` with `mode` and return the file object.\u001b[39;00m\n\u001b[0;32m    158\u001b[0m \n\u001b[1;32m   (...)\u001b[0m\n\u001b[0;32m    189\u001b[0m \n\u001b[0;32m    190\u001b[0m \u001b[38;5;124;03m\"\"\"\u001b[39;00m\n\u001b[0;32m    192\u001b[0m ds \u001b[38;5;241m=\u001b[39m DataSource(destpath)\n\u001b[1;32m--> 193\u001b[0m \u001b[38;5;28;01mreturn\u001b[39;00m \u001b[43mds\u001b[49m\u001b[38;5;241;43m.\u001b[39;49m\u001b[43mopen\u001b[49m\u001b[43m(\u001b[49m\u001b[43mpath\u001b[49m\u001b[43m,\u001b[49m\u001b[43m \u001b[49m\u001b[43mmode\u001b[49m\u001b[43m,\u001b[49m\u001b[43m \u001b[49m\u001b[43mencoding\u001b[49m\u001b[38;5;241;43m=\u001b[39;49m\u001b[43mencoding\u001b[49m\u001b[43m,\u001b[49m\u001b[43m \u001b[49m\u001b[43mnewline\u001b[49m\u001b[38;5;241;43m=\u001b[39;49m\u001b[43mnewline\u001b[49m\u001b[43m)\u001b[49m\n",
            "File \u001b[1;32m~\\anaconda3\\lib\\site-packages\\numpy\\lib\\_datasource.py:533\u001b[0m, in \u001b[0;36mDataSource.open\u001b[1;34m(self, path, mode, encoding, newline)\u001b[0m\n\u001b[0;32m    530\u001b[0m     \u001b[38;5;28;01mreturn\u001b[39;00m _file_openers[ext](found, mode\u001b[38;5;241m=\u001b[39mmode,\n\u001b[0;32m    531\u001b[0m                               encoding\u001b[38;5;241m=\u001b[39mencoding, newline\u001b[38;5;241m=\u001b[39mnewline)\n\u001b[0;32m    532\u001b[0m \u001b[38;5;28;01melse\u001b[39;00m:\n\u001b[1;32m--> 533\u001b[0m     \u001b[38;5;28;01mraise\u001b[39;00m \u001b[38;5;167;01mIOError\u001b[39;00m(\u001b[38;5;124m\"\u001b[39m\u001b[38;5;132;01m%s\u001b[39;00m\u001b[38;5;124m not found.\u001b[39m\u001b[38;5;124m\"\u001b[39m \u001b[38;5;241m%\u001b[39m path)\n",
            "\u001b[1;31mOSError\u001b[0m: curve1.txt not found."
          ]
        }
      ],
      "source": [
        "fitting('curve1.txt',3)\n",
        "compute_r_squared('curve1.txt',3)\n",
        "\n"
      ]
    },
    {
      "cell_type": "code",
      "execution_count": null,
      "id": "a769f6c8",
      "metadata": {
        "id": "a769f6c8",
        "outputId": "61be8fcf-58c7-47a2-c868-53acbde63783"
      },
      "outputs": [
        {
          "name": "stdout",
          "output_type": "stream",
          "text": [
            "0.7071067811865476\n"
          ]
        }
      ],
      "source": [
        "print(np.cos(np.pi/4))\n"
      ]
    },
    {
      "cell_type": "code",
      "execution_count": null,
      "id": "3d4dc00f",
      "metadata": {
        "id": "3d4dc00f"
      },
      "outputs": [],
      "source": []
    }
  ],
  "metadata": {
    "kernelspec": {
      "display_name": "Python 3 (ipykernel)",
      "language": "python",
      "name": "python3"
    },
    "language_info": {
      "codemirror_mode": {
        "name": "ipython",
        "version": 3
      },
      "file_extension": ".py",
      "mimetype": "text/x-python",
      "name": "python",
      "nbconvert_exporter": "python",
      "pygments_lexer": "ipython3",
      "version": "3.9.12"
    },
    "colab": {
      "provenance": []
    }
  },
  "nbformat": 4,
  "nbformat_minor": 5
}